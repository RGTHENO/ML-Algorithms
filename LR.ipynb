{
  "nbformat": 4,
  "nbformat_minor": 0,
  "metadata": {
    "colab": {
      "name": "LR.ipynb",
      "provenance": [],
      "collapsed_sections": [],
      "authorship_tag": "ABX9TyM8kh6KDYhFjFE3XuauVghJ",
      "include_colab_link": true
    },
    "kernelspec": {
      "name": "python3",
      "display_name": "Python 3"
    }
  },
  "cells": [
    {
      "cell_type": "markdown",
      "metadata": {
        "id": "view-in-github",
        "colab_type": "text"
      },
      "source": [
        "<a href=\"https://colab.research.google.com/github/RGTHENO/ML-Algorithms/blob/master/LR.ipynb\" target=\"_parent\"><img src=\"https://colab.research.google.com/assets/colab-badge.svg\" alt=\"Open In Colab\"/></a>"
      ]
    },
    {
      "cell_type": "code",
      "metadata": {
        "id": "w3KLuJOH1C1q",
        "colab_type": "code",
        "outputId": "8dec8559-08b3-4af0-8c43-c8faf181ca3a",
        "colab": {
          "base_uri": "https://localhost:8080/",
          "height": 127
        }
      },
      "source": [
        "import numpy as np\n",
        "import pandas as pd\n",
        "import matplotlib.pyplot as plt\n",
        "from google.colab import drive\n",
        "\n",
        "np.set_printoptions(suppress=True)\n",
        "DRIVE_PATH = './drive/My Drive/Colab Notebooks/TopIA/'\n",
        "drive.mount('/content/drive') \n",
        "\n",
        "PERCENTAGE_TRAINING = 0.7\n",
        "PERCENTAGE_TESTING = 0.3\n",
        "\n",
        "\n",
        "DATASET_NAME_OCEAN  =  'oceano_simple.csv'\n",
        "DATASET_NAME_HOME   =  'home_prices.csv' \n",
        "DATASET_NAME_PETROL =  'petrol_consumption.csv' "
      ],
      "execution_count": 1,
      "outputs": [
        {
          "output_type": "stream",
          "text": [
            "Go to this URL in a browser: https://accounts.google.com/o/oauth2/auth?client_id=947318989803-6bn6qk8qdgf4n4g3pfee6491hc0brc4i.apps.googleusercontent.com&redirect_uri=urn%3aietf%3awg%3aoauth%3a2.0%3aoob&response_type=code&scope=email%20https%3a%2f%2fwww.googleapis.com%2fauth%2fdocs.test%20https%3a%2f%2fwww.googleapis.com%2fauth%2fdrive%20https%3a%2f%2fwww.googleapis.com%2fauth%2fdrive.photos.readonly%20https%3a%2f%2fwww.googleapis.com%2fauth%2fpeopleapi.readonly\n",
            "\n",
            "Enter your authorization code:\n",
            "··········\n",
            "Mounted at /content/drive\n"
          ],
          "name": "stdout"
        }
      ]
    },
    {
      "cell_type": "code",
      "metadata": {
        "id": "huBCNGatDVzG",
        "colab_type": "code",
        "colab": {}
      },
      "source": [
        "#dfHome  :data frame Home 1 feature\n",
        "def readFiles(filename:str):\n",
        "\n",
        "  dataframe = pd.read_csv(filename, delim_whitespace=True)\n",
        " \n",
        "  #convert data from dataframe to numpy\n",
        "  matrix_data = dataframe.to_numpy() \n",
        "  \n",
        "  '''We are gonna assure that dtype of each element of matrix_data\n",
        "  to be float64, this way it will be better to work with normalized values'''\n",
        "  matrix_data = matrix_data.astype(np.float64) \n",
        "  \n",
        "  return matrix_data\n",
        "   \n"
      ],
      "execution_count": 0,
      "outputs": []
    },
    {
      "cell_type": "code",
      "metadata": {
        "id": "M4BBAqA74Vx8",
        "colab_type": "code",
        "colab": {}
      },
      "source": [
        "def normalizeData(matrix_data):\n",
        "\n",
        "  '''calculate the 'mean' y 'stdeviation' of all rows(index 0) per Each Column'''\n",
        "  #The second parameter of np.mean, means \"SOBRE que eje se van a tomar \n",
        "  #los valores para aplicar la media\"\n",
        "  \n",
        "  mean_cols = np.mean(matrix_data, 0)  \n",
        "  sigma_cols = np.std(matrix_data, 0)\n",
        "\n",
        "  for j in range(matrix_data.shape[0]): #Normalize for all columns of the jth row\n",
        "      matrix_data[j] =  (matrix_data[j]-(mean_cols) )/(sigma_cols)\n",
        "  \n",
        "  return matrix_data"
      ],
      "execution_count": 0,
      "outputs": []
    },
    {
      "cell_type": "code",
      "metadata": {
        "id": "I8yofmWAKX8Q",
        "colab_type": "code",
        "colab": {}
      },
      "source": [
        "def partitionTrainTest(matrix_data):\n",
        "  \n",
        "  ''' We're gonna to generate an Random list of indices of rows(Samples)\n",
        "  corresponding to our DATASET(matrix_data), so that, we can partition it '''\n",
        "\n",
        "  indices = np.random.permutation(matrix_data.shape[0]) \n",
        "  \n",
        "  m_samples = indices.size;\n",
        "  \n",
        "  ''' We will get the amount of samples for training based on \n",
        "  the PERCENTAGE_TRAINING '''  \n",
        "  m_train =  int(m_samples*PERCENTAGE_TRAINING) \n",
        "  m_test = m_samples - m_train\n",
        "  \n",
        "  \n",
        "  ''' We get the sublist of indices corresponding to samples for traning and testing'''\n",
        "  training_idx, test_idx = indices[:m_train], indices[m_train:]\n",
        "\n",
        "  '''training_idx will represent the list of positions of rows(samples), that we're\n",
        "  going to extract from our matrix_data(dataset): '''\n",
        "  train, test = matrix_data[training_idx,:], matrix_data[test_idx,:] \n",
        "  \n",
        "  n_cols = train.shape[1]\n",
        "  #m_train \"m\" represents the amount of samples(rows)\n",
        "  #m_test  \"m\" represents the amount of samples(rows)\n",
        "\n",
        "  #OJO: It' unnecessary to access to test.shape[1], because test (set)\n",
        "  #just have 1 column \"Y\"\n",
        "\n",
        "  ''' WE'LL GET X_TRAIN & Y_TRAIN '''\n",
        "\n",
        "  '''---- As limit superior never is access, in addition to that,  it is important\n",
        "  to subtract -1 because we want to avoid access UNTIL the last column(Y) '''\n",
        "  X_train = train[: , :n_cols-1]\n",
        "\n",
        "  #We are adding a column of ones at the beginning of our Matrix \n",
        "  X_train = np.c_[np.ones(m_train), X_train]  \n",
        "\n",
        "  #We need to subtract -1 'cause we wanna access to the last column(Y) specifically \n",
        "  Y_train = train[ : , n_cols-1]\n",
        "  Y_train = np.reshape(Y_train, (Y_train.shape[0] ,1))\n",
        "\n",
        "  ''' WE'LL GET X_TEST & Y_TEST '''\n",
        "  \n",
        "  #The same that was happended to X_train, we must apply to X_test\n",
        "  X_test = test[:,:n_cols-1]  \n",
        "  #We are adding a column of ones at the beginning of our Matrix\n",
        "  X_test = np.c_[np.ones(m_test), X_test] \n",
        "\n",
        "  Y_test = test[:,n_cols-1] \n",
        "  Y_test = np.reshape(Y_test, (Y_test.shape[0] ,1))\n",
        "\n",
        "  return X_train, Y_train, X_test, Y_test\n"
      ],
      "execution_count": 0,
      "outputs": []
    },
    {
      "cell_type": "code",
      "metadata": {
        "id": "hgysBOUCzKd0",
        "colab_type": "code",
        "colab": {}
      },
      "source": [
        "def hFunction(X, theta):\n",
        "  return X.dot(theta)\n",
        "\n"
      ],
      "execution_count": 0,
      "outputs": []
    },
    {
      "cell_type": "code",
      "metadata": {
        "id": "-KopMR-eNwlr",
        "colab_type": "code",
        "colab": {}
      },
      "source": [
        "def computeCost( X , Y, theta ):\n",
        "  \n",
        "  m_samples = len(Y)\n",
        "  pred_Y = hFunction(X,theta)\n",
        "  J = (1/(2*m_samples))*np.sum( np.square( pred_Y-Y ), axis=0)\n",
        "  return J\n"
      ],
      "execution_count": 0,
      "outputs": []
    },
    {
      "cell_type": "code",
      "metadata": {
        "id": "BziYUa4LyWId",
        "colab_type": "code",
        "colab": {}
      },
      "source": [
        "def gradientDescent(X , Y , theta, n_iteration, l_rate ):\n",
        "\n",
        "  m_samples = len(Y)\n",
        "  cost_record= np.zeros(n_iteration)\n",
        "\n",
        "  for i in range(n_iteration):\n",
        "    f=  hFunction(X,theta)-Y  #return a matrix of shape--> mx1 \n",
        "    theta = theta-(1/m_samples)*l_rate*X.T.dot(f)\n",
        "    cost_record[i] = computeCost(X, Y, theta)\n",
        "  \n",
        "  return theta, cost_record\n"
      ],
      "execution_count": 0,
      "outputs": []
    },
    {
      "cell_type": "code",
      "metadata": {
        "colab_type": "code",
        "id": "65N6YC2JKr0K",
        "colab": {}
      },
      "source": [
        "filename = DRIVE_PATH+DATASET_NAME_HOME\n",
        "matrix_data =  readFiles(filename)  \n",
        "\n",
        "matrix_data = normalizeData(matrix_data)\n",
        "\n",
        "X_train, Y_train, X_test, Y_test = partitionTrainTest(matrix_data)\n",
        "\n",
        "theta = np.zeros( ( X_train.shape[1], 1)) "
      ],
      "execution_count": 0,
      "outputs": []
    },
    {
      "cell_type": "code",
      "metadata": {
        "id": "R-3oZsTM5mJ7",
        "colab_type": "code",
        "outputId": "63d712c0-7fb4-42b8-c322-46ef0823fedd",
        "colab": {
          "base_uri": "https://localhost:8080/",
          "height": 53
        }
      },
      "source": [
        "\n",
        "#print(\"mean X:\", np.mean(X_train, axis=0))\n",
        "#print(\"std X :\", np.std(X_train, axis=0))\n",
        "#print(\"mean Y:\", np.mean(Y_train, axis=0))\n",
        "#print(\"std Y :\", np.std(Y_train, axis=0))\n",
        "\n",
        "num_it = 1500\n",
        "\n",
        "theta = np.zeros( ( X_train.shape[1], 1))\n",
        "\n",
        "theta, cost_history = gradientDescent(X_train, Y_train,theta, num_it, 0.1)\n",
        "print(\"theta final :\", theta)\n",
        "\n"
      ],
      "execution_count": 11,
      "outputs": [
        {
          "output_type": "stream",
          "text": [
            "theta final : [[0.00358172]\n",
            " [0.79815694]]\n"
          ],
          "name": "stdout"
        }
      ]
    },
    {
      "cell_type": "code",
      "metadata": {
        "id": "eMQ3WAktaDC0",
        "colab_type": "code",
        "outputId": "6e90ddec-7d55-46f8-ef48-d083b22400d7",
        "colab": {
          "base_uri": "https://localhost:8080/",
          "height": 497
        }
      },
      "source": [
        "import matplotlib.pyplot as plt\n",
        "fig,axis_fig = plt.subplots(figsize=(12,8))\n",
        "\n",
        "axis_fig.set_ylabel('J(Theta)')\n",
        "axis_fig.set_xlabel('Iterations')\n",
        "axis_fig.plot(range(num_it),cost_history,'b.')\n",
        "\n",
        "fig.savefig(\"standard_HOME_cost.jpg\")\n",
        "\n",
        "from google.colab import files\n",
        "files.download(\"standard_HOME_cost.jpg\")\n",
        "\n"
      ],
      "execution_count": 12,
      "outputs": [
        {
          "output_type": "display_data",
          "data": {
            "image/png": "[encoded data removed]",
            "text/plain": [
              "<Figure size 864x576 with 1 Axes>"
            ]
          },
          "metadata": {
            "tags": [],
            "needs_background": "light"
          }
        }
      ]
    },
    {
      "cell_type": "code",
      "metadata": {
        "id": "WBJXYMrTtsOj",
        "colab_type": "code",
        "colab": {}
      },
      "source": [
        "def eqNormal(X, Y):\n",
        "  \n",
        "  dot_XX = np.dot(X.T, X)\n",
        "  dot_XY = np.dot(X.T, Y)\n",
        "  theta = np.linalg.inv(dot_XX).dot(dot_XY)\n",
        "\n",
        "  return theta"
      ],
      "execution_count": 0,
      "outputs": []
    },
    {
      "cell_type": "code",
      "metadata": {
        "id": "3afYak_Tuj7L",
        "colab_type": "code",
        "outputId": "510a13f0-ab68-47b2-f79e-692f36a528c0",
        "colab": {
          "base_uri": "https://localhost:8080/",
          "height": 71
        }
      },
      "source": [
        "theta_EN = eqNormal(X_train, Y_train)\n",
        "print(\"Theta EQN :\\n\", theta_EN)"
      ],
      "execution_count": 15,
      "outputs": [
        {
          "output_type": "stream",
          "text": [
            "Theta EQN :\n",
            " [[0.00358172]\n",
            " [0.79815694]]\n"
          ],
          "name": "stdout"
        }
      ]
    },
    {
      "cell_type": "code",
      "metadata": {
        "id": "1n-cLRj5RNYE",
        "colab_type": "code",
        "outputId": "8203124c-1d96-4d6d-d7cd-2f50d1942624",
        "colab": {
          "base_uri": "https://localhost:8080/",
          "height": 498
        }
      },
      "source": [
        "''' Let's plot our straight line '''\n",
        "fig, axis_fig = plt.subplots(figsize=(12,8))\n",
        "axis_fig.set_ylabel('Y')\n",
        "axis_fig.set_xlabel('X_1')\n",
        "axis_fig.plot(X_train[:, 1], Y_train[:,0],'bo' )\n",
        "linea = np.arange(np.min(X_train[:,1]-1), np.max(X_train[:,1]+1))\n",
        "\n",
        "linea = np.column_stack((np.ones(linea.shape[0]), linea))\n",
        "\n",
        "descrip = \"Recta: y= \"+str(round(theta[0,0],3))+\" + \"+str(round(theta[1,0],3))+\"*X_1\"\n",
        "axis_fig.plot(linea[:,1], hFunction(linea, theta), \"red\")#si ponia green con comillas simples solo me hubiera dibujado puntos discontinuos\n",
        "axis_fig.text(0.7, 0.8, descrip, horizontalalignment='left', verticalalignment='top')\n",
        "fig.show()\n",
        "\n",
        "fig.savefig(\"home_line_GDC.jpg\")\n",
        "from google.colab import files\n",
        "files.download(\"home_line_GDC.jpg\")\n"
      ],
      "execution_count": 16,
      "outputs": [
        {
          "output_type": "display_data",
          "data": {
            "image/png": "[encoded data removed]",
            "text/plain": [
              "<Figure size 864x576 with 1 Axes>"
            ]
          },
          "metadata": {
            "tags": [],
            "needs_background": "light"
          }
        }
      ]
    },
    {
      "cell_type": "code",
      "metadata": {
        "id": "UIkvD4rxP9k7",
        "colab_type": "code",
        "outputId": "1050e38f-f0db-4901-ee26-1c71fda42e2c",
        "colab": {
          "base_uri": "https://localhost:8080/",
          "height": 71
        }
      },
      "source": [
        "cost_test = computeCost(X_test,Y_test, theta_EN)\n",
        "print(\"cost_test : \", cost_test)\n",
        "print(\"X_test.shape: \",X_test.shape)\n",
        "print(\"Y_test.shape: \", Y_test.shape)\n"
      ],
      "execution_count": 0,
      "outputs": [
        {
          "output_type": "stream",
          "text": [
            "cost_test :  [0.12706926]\n",
            "X_test.shape:  (15, 2)\n",
            "Y_test.shape:  (15, 1)\n"
          ],
          "name": "stdout"
        }
      ]
    },
    {
      "cell_type": "code",
      "metadata": {
        "id": "XjokWevtYFPv",
        "colab_type": "code",
        "outputId": "c9813748-fa90-49c7-a627-3592dcfad989",
        "colab": {
          "base_uri": "https://localhost:8080/",
          "height": 197
        }
      },
      "source": [
        "'''We are going to do experiments #iteraciones vs learning_rate'''\n",
        "\n",
        "theta = np.zeros( ( X_train.shape[1], 1))\n",
        "\n",
        "n_exper_lr = 6\n",
        "n_exper_it = 7  \n",
        "\n",
        "it_lr_matrix = np.zeros((n_exper_it, n_exper_lr))\n",
        "\n",
        "best_it= best_lr=-1\n",
        "min_cost = 99999999\n",
        "\n",
        "i=j=0\n",
        "for it in range(500,4000, 500): \n",
        "  \n",
        "  lr= 0.01\n",
        "  \n",
        "  while( lr <= 0.05):\n",
        "    theta = np.zeros( ( X_train.shape[1], 1))\n",
        "    theta_tmp, cost_tmp = gradientDescent(X_train,Y_train, theta, it,lr)    \n",
        "    cost_avg = np.mean(cost_tmp,axis=0)\n",
        "    if( cost_avg < min_cost):\n",
        "      best_it = it\n",
        "      best_lr = lr\n",
        "      min_cost = cost_avg\n",
        "    #print(\"para n_it:\", it, \" lr:\", lr,\"el costo es:\",cost_avg)\n",
        "    it_lr_matrix[i,j] = cost_avg\n",
        "    lr +=0.04\n",
        "    j+=1\n",
        "  \n",
        "  j=0\n",
        "  i+=1\n",
        " \n",
        "i=0\n",
        "j=2 #It will start in column 2 (0-index based)\n",
        "for it in range(500,4000, 500): \n",
        "  lr= 0.1\n",
        "  while( lr < 0.50):\n",
        "    theta_tmp, cost_tmp = gradientDescent(X_train,Y_train, theta, it,lr)    \n",
        "    cost_avg = np.mean(cost_tmp,axis=0)\n",
        "    if( cost_avg < min_cost):\n",
        "      best_it = it\n",
        "      best_lr = lr\n",
        "      min_cost = cost_avg\n",
        "    \n",
        "    #print(\" i: \", i, \" j:\", j)\n",
        "    it_lr_matrix[i,j] = cost_avg\n",
        "    lr +=0.1\n",
        "    j+=1\n",
        " \n",
        "  j=2\n",
        "  i+=1\n",
        "\n",
        "print(\" el menor costo es :\", min_cost)\n",
        "print(\"mejores param iteracion:\", best_it, \" l_r:\", best_lr)\n",
        "print(\"Finalmente la matrix it vs lr :\\n\", it_lr_matrix)"
      ],
      "execution_count": 18,
      "outputs": [
        {
          "output_type": "stream",
          "text": [
            " el menor costo es : 0.1472982618110945\n",
            "mejores param iteracion: 3500  l_r: 0.4\n",
            "Finalmente la matrix it vs lr :\n",
            " [[0.17869064 0.15322626 0.15004372 0.14845705 0.14793275 0.14767459]\n",
            " [0.16297116 0.1502309  0.14863963 0.1478463  0.14758415 0.14745506]\n",
            " [0.15772596 0.14923245 0.1481716  0.14764271 0.14746795 0.14738189]\n",
            " [0.15510336 0.14873322 0.14793759 0.14754092 0.14740984 0.1473453 ]\n",
            " [0.15352979 0.14843368 0.14779718 0.14747984 0.14737498 0.14732335]\n",
            " [0.15248075 0.14823399 0.14770357 0.14743913 0.14735174 0.14730872]\n",
            " [0.15173143 0.14809136 0.14763671 0.14741004 0.14733514 0.14729826]]\n"
          ],
          "name": "stdout"
        }
      ]
    },
    {
      "cell_type": "code",
      "metadata": {
        "id": "BdlZ-AkBBwbY",
        "colab_type": "code",
        "colab": {}
      },
      "source": [
        "theta = np.zeros( ( X_train.shape[1], 1))\n",
        "\n",
        "theta, cost_history = gradientDescent(X_train, Y_train,theta, best_it, best_lr)\n",
        " \n"
      ],
      "execution_count": 0,
      "outputs": []
    },
    {
      "cell_type": "code",
      "metadata": {
        "id": "vqCylBAAuxB2",
        "colab_type": "code",
        "colab": {}
      },
      "source": [
        ""
      ],
      "execution_count": 0,
      "outputs": []
    },
    {
      "cell_type": "code",
      "metadata": {
        "id": "yPusiSOdBO6D",
        "colab_type": "code",
        "outputId": "71f2b0a7-b098-41dd-cd8c-49925583274c",
        "colab": {
          "base_uri": "https://localhost:8080/",
          "height": 497
        }
      },
      "source": [
        "import matplotlib.pyplot as plt\n",
        "fig,axis_fig = plt.subplots(figsize=(12,8))\n",
        "\n",
        "axis_fig.set_ylabel('J(Theta)')\n",
        "axis_fig.set_xlabel('Iterations')\n",
        "axis_fig.plot(range(best_it),cost_history,'b.')\n",
        "fig.savefig(\"home_cost.jpg\")\n",
        "from google.colab import files\n",
        "files.download(\"home_cost.jpg\")\n"
      ],
      "execution_count": 0,
      "outputs": [
        {
          "output_type": "display_data",
          "data": {
            "image/png": "[encoded data removed]",
            "text/plain": [
              "<Figure size 864x576 with 1 Axes>"
            ]
          },
          "metadata": {
            "tags": [],
            "needs_background": "light"
          }
        }
      ]
    },
    {
      "cell_type": "code",
      "metadata": {
        "id": "a-_hLUBmBPFp",
        "colab_type": "code",
        "colab": {}
      },
      "source": [
        ""
      ],
      "execution_count": 0,
      "outputs": []
    },
    {
      "cell_type": "code",
      "metadata": {
        "id": "1pUURS2TfKEO",
        "colab_type": "code",
        "outputId": "ea28af4a-e43d-4152-c630-49da32e7336a",
        "colab": {
          "base_uri": "https://localhost:8080/",
          "height": 53
        }
      },
      "source": [
        "'''APLYING SCIKIT LEARN TO VALIDATE OUR THETA LEARNED'''\n",
        "\n",
        "from sklearn.model_selection import train_test_split \n",
        "from sklearn.linear_model import LinearRegression\n",
        "from sklearn import metrics\n",
        "\n",
        "regressor = LinearRegression()  \n",
        "regressor.fit(X_train, Y_train) #training the algorithm\n",
        "#To retrieve the intercept:\n",
        "print(regressor.intercept_)\n",
        "#For retrieving the slope:\n",
        "print(\"theta SCIKIT LEARN: \\n\",regressor.coef_)"
      ],
      "execution_count": 0,
      "outputs": [
        {
          "output_type": "stream",
          "text": [
            "[-0.07914044]\n",
            "[[0.         0.84942038]]\n"
          ],
          "name": "stdout"
        }
      ]
    }
  ]
}